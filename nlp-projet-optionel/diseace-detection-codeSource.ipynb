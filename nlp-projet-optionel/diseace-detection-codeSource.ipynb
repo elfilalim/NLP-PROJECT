{
  "nbformat": 4,
  "nbformat_minor": 0,
  "metadata": {
    "colab": {
      "name": "Copy_of_Disease_Detection (1).ipynb",
      "provenance": [],
      "collapsed_sections": []
    },
    "kernelspec": {
      "display_name": "Python 3",
      "name": "python3"
    }
  },
  "cells": [
    {
      "cell_type": "code",
      "metadata": {
        "colab": {
          "base_uri": "https://localhost:8080/"
        },
        "id": "0dfUFrvKei77",
        "outputId": "2b4b66fe-960d-470b-c96f-99a7d2aec85b"
      },
      "source": [
        "!git clone https://github.com/spMohanty/PlantVillage-Dataset.git"
      ],
      "execution_count": null,
      "outputs": [
        {
          "name": "stdout",
          "output_type": "stream",
          "text": [
            "Cloning into 'PlantVillage-Dataset'...\n",
            "remote: Enumerating objects: 163229, done.\u001b[K\n",
            "remote: Total 163229 (delta 0), reused 0 (delta 0), pack-reused 163229\u001b[K\n",
            "Receiving objects: 100% (163229/163229), 2.00 GiB | 31.32 MiB/s, done.\n",
            "Resolving deltas: 100% (99/99), done.\n",
            "Checking out files: 100% (182401/182401), done.\n"
          ]
        }
      ]
    },
    {
      "cell_type": "code",
      "metadata": {
        "colab": {
          "base_uri": "https://localhost:8080/"
        },
        "id": "BFJLErFX0U7P",
        "outputId": "6be7f850-d854-4e41-8488-61b4d9de11e0"
      },
      "source": [
        "!ls"
      ],
      "execution_count": null,
      "outputs": [
        {
          "name": "stdout",
          "output_type": "stream",
          "text": [
            "PlantVillage-Dataset  sample_data\n"
          ]
        }
      ]
    },
    {
      "cell_type": "code",
      "metadata": {
        "colab": {
          "base_uri": "https://localhost:8080/"
        },
        "id": "r39tH6AIhma-",
        "outputId": "842199e0-16c4-46e1-d8e5-1d18acac132b"
      },
      "source": [
        "!pip install mahotas "
      ],
      "execution_count": null,
      "outputs": [
        {
          "name": "stdout",
          "output_type": "stream",
          "text": [
            "Collecting mahotas\n",
            "  Downloading mahotas-1.4.11-cp37-cp37m-manylinux2010_x86_64.whl (5.7 MB)\n",
            "\u001b[K     |████████████████████████████████| 5.7 MB 6.0 MB/s \n",
            "\u001b[?25hRequirement already satisfied: numpy in /usr/local/lib/python3.7/dist-packages (from mahotas) (1.19.5)\n",
            "Installing collected packages: mahotas\n",
            "Successfully installed mahotas-1.4.11\n"
          ]
        }
      ]
    },
    {
      "cell_type": "markdown",
      "metadata": {
        "id": "imXh8Uaz0zv4"
      },
      "source": [
        "# Images With Background"
      ]
    },
    {
      "cell_type": "code",
      "metadata": {
        "colab": {
          "base_uri": "https://localhost:8080/"
        },
        "id": "fGKHdQ3Vhya1",
        "outputId": "f92b14c4-07b7-434e-a0bd-777793f643e0"
      },
      "source": [
        "# images with color\n",
        "\n",
        "import glob\n",
        "\n",
        "#Potato\n",
        "early_potato=glob.glob('/content/PlantVillage-Dataset/raw/color/Potato___Early_blight/*.JPG')\n",
        "print(len(early_potato))\n",
        "healthy_potato=glob.glob('/content/PlantVillage-Dataset/raw/color/Potato___healthy/*.JPG')\n",
        "print(len(healthy_potato))\n",
        "late_potato=glob.glob('/content/PlantVillage-Dataset/raw/color/Potato___Late_blight/*.JPG')\n",
        "print(len(late_potato))\n",
        "\n",
        "#Tomato\n",
        "healthy_tomato=glob.glob('/content/PlantVillage-Dataset/raw/color/Tomato___healthy/*.JPG')\n",
        "print(len(healthy_tomato))\n",
        "late_tomato=glob.glob('/content/PlantVillage-Dataset/raw/color/Tomato___Late_blight/*.JPG')\n",
        "print(len(late_tomato))\n",
        "mosaic_tomato=glob.glob('/content/PlantVillage-Dataset/raw/color/Tomato___Tomato_mosaic_virus/*.JPG')\n",
        "print(len(mosaic_tomato))\n",
        "curl_tomato=glob.glob('/content/PlantVillage-Dataset/raw/color/Tomato___Tomato_Yellow_Leaf_Curl_Virus/*.JPG')\n",
        "\n",
        "print(len(curl_tomato))"
      ],
      "execution_count": null,
      "outputs": [
        {
          "name": "stdout",
          "output_type": "stream",
          "text": [
            "1000\n",
            "152\n",
            "1000\n",
            "1590\n",
            "1756\n",
            "373\n",
            "5357\n"
          ]
        }
      ]
    },
    {
      "cell_type": "markdown",
      "metadata": {
        "id": "Ow-jNbfv0n62"
      },
      "source": [
        "# Segmented Images"
      ]
    },
    {
      "cell_type": "code",
      "metadata": {
        "colab": {
          "base_uri": "https://localhost:8080/"
        },
        "id": "FWcvQ3PI0aZm",
        "outputId": "1bb375b9-fd37-4b1d-b270-417ff9c264ca"
      },
      "source": [
        "\n",
        "import glob\n",
        "\n",
        "#Potato\n",
        "early_potato=glob.glob('/content/PlantVillage-Dataset/raw/segmented/Potato___Early_blight/*.jpg')\n",
        "print(len(early_potato))\n",
        "healthy_potato=glob.glob('/content/PlantVillage-Dataset/raw/segmented/Potato___healthy/*.jpg')\n",
        "print(len(early_potato)+len(healthy_potato))\n",
        "late_potato=glob.glob('/content/PlantVillage-Dataset/raw/segmented/Potato___Late_blight/*.jpg')\n",
        "print(len(early_potato)+len(healthy_potato)+len(late_potato))\n",
        "\n",
        "#Tomato\n",
        "healthy_tomato=glob.glob('/content/PlantVillage-Dataset/raw/segmented/Tomato___healthy/*.jpg')\n",
        "print(len(early_potato)+len(healthy_potato)+len(late_potato)+len(healthy_tomato))\n",
        "late_tomato=glob.glob('/content/PlantVillage-Dataset/raw/segmented/Tomato___Late_blight/*.jpg')\n",
        "print(len(early_potato)+len(healthy_potato)+len(late_potato)+len(healthy_tomato)+len(late_tomato))\n",
        "mosaic_tomato=glob.glob('/content/PlantVillage-Dataset/raw/segmented/Tomato___Tomato_mosaic_virus/*.jpg')\n",
        "print(len(early_potato)+len(healthy_potato)+len(late_potato)+len(healthy_tomato)+len(late_tomato)+len(mosaic_tomato))\n",
        "curl_tomato=glob.glob('/content/PlantVillage-Dataset/raw/segmented/Tomato___Tomato_Yellow_Leaf_Curl_Virus/*.jpg')\n",
        "\n",
        "print(len(healthy_tomato)+len(late_tomato)+len(mosaic_tomato)+len(curl_tomato)+len(early_potato)+len(healthy_potato)+len(late_potato))"
      ],
      "execution_count": null,
      "outputs": [
        {
          "name": "stdout",
          "output_type": "stream",
          "text": [
            "1000\n",
            "1152\n",
            "2152\n",
            "3743\n",
            "5652\n",
            "6025\n",
            "11382\n"
          ]
        }
      ]
    },
    {
      "cell_type": "markdown",
      "metadata": {
        "id": "Qk0lE_Pz0uOt"
      },
      "source": [
        "# DataFrame Creation"
      ]
    },
    {
      "cell_type": "code",
      "metadata": {
        "colab": {
          "base_uri": "https://localhost:8080/",
          "height": 49
        },
        "id": "7SpCgN3giohQ",
        "outputId": "8dcffbdf-1545-4dbc-ead0-d8a2af6f2f0b"
      },
      "source": [
        " \n",
        "import pandas as pd\n",
        "\n",
        "names = ['mean_r','mean_g','mean_b','stddev_r','stddev_g','stddev_b', \\\n",
        "             'contrast','correlation','inverse_difference_moments','entropy'\n",
        "            ]\n",
        "df = pd.DataFrame([], columns=names)\n",
        "target = []\n",
        "df"
      ],
      "execution_count": null,
      "outputs": [
        {
          "data": {
            "text/html": [
              "<div>\n",
              "<style scoped>\n",
              "    .dataframe tbody tr th:only-of-type {\n",
              "        vertical-align: middle;\n",
              "    }\n",
              "\n",
              "    .dataframe tbody tr th {\n",
              "        vertical-align: top;\n",
              "    }\n",
              "\n",
              "    .dataframe thead th {\n",
              "        text-align: right;\n",
              "    }\n",
              "</style>\n",
              "<table border=\"1\" class=\"dataframe\">\n",
              "  <thead>\n",
              "    <tr style=\"text-align: right;\">\n",
              "      <th></th>\n",
              "      <th>mean_r</th>\n",
              "      <th>mean_g</th>\n",
              "      <th>mean_b</th>\n",
              "      <th>stddev_r</th>\n",
              "      <th>stddev_g</th>\n",
              "      <th>stddev_b</th>\n",
              "      <th>contrast</th>\n",
              "      <th>correlation</th>\n",
              "      <th>inverse_difference_moments</th>\n",
              "      <th>entropy</th>\n",
              "    </tr>\n",
              "  </thead>\n",
              "  <tbody>\n",
              "  </tbody>\n",
              "</table>\n",
              "</div>"
            ],
            "text/plain": [
              "Empty DataFrame\n",
              "Columns: [mean_r, mean_g, mean_b, stddev_r, stddev_g, stddev_b, contrast, correlation, inverse_difference_moments, entropy]\n",
              "Index: []"
            ]
          },
          "execution_count": 6,
          "metadata": {},
          "output_type": "execute_result"
        }
      ]
    },
    {
      "cell_type": "markdown",
      "metadata": {
        "id": "F4KzLTpaM3Z5"
      },
      "source": [
        "# Image Processing"
      ]
    },
    {
      "cell_type": "code",
      "metadata": {
        "colab": {
          "base_uri": "https://localhost:8080/"
        },
        "id": "JrtO1tviSyg3",
        "outputId": "e463a29c-da85-44a9-af3c-2160cda6fa88"
      },
      "source": [
        "\n",
        "import numpy as np\n",
        "import cv2\n",
        "import mahotas as mt\n",
        "\n",
        "# Potato Early Blight\n",
        "for image in early_potato:\n",
        "    \n",
        "  main_img=cv2.imread(image) \n",
        "\n",
        "  #Preprocessing\n",
        "  img = cv2.cvtColor(main_img, cv2.COLOR_BGR2RGB)\n",
        "  gs = cv2.cvtColor(img,cv2.COLOR_RGB2GRAY)\n",
        "\n",
        "  #Color features\n",
        "  red_channel = img[:,:,0]\n",
        "  green_channel = img[:,:,1]\n",
        "  blue_channel = img[:,:,2]\n",
        "  blue_channel[blue_channel == 255] = 0\n",
        "  green_channel[green_channel == 255] = 0\n",
        "  red_channel[red_channel == 255] = 0\n",
        "\n",
        "  red_mean = np.mean(red_channel)\n",
        "  green_mean = np.mean(green_channel)\n",
        "  blue_mean = np.mean(blue_channel)\n",
        "\n",
        "  red_std = np.std(red_channel)\n",
        "  green_std = np.std(green_channel)\n",
        "  blue_std = np.std(blue_channel)\n",
        "\n",
        "  #Texture features\n",
        "  textures = mt.features.haralick(gs)\n",
        "  ht_mean = textures.mean(axis=0)\n",
        "  contrast = ht_mean[1]\n",
        "  correlation = ht_mean[2]\n",
        "  inverse_diff_moments = ht_mean[4]\n",
        "  entropy = ht_mean[8]\n",
        "\n",
        "  vector = [red_mean,green_mean,blue_mean,red_std,green_std,blue_std,\\\n",
        "          contrast,correlation,inverse_diff_moments,entropy\n",
        "          ]\n",
        "\n",
        "  df_temp = pd.DataFrame([vector],columns=names)\n",
        "  df = df.append(df_temp)\n",
        "  target.append('Potato Early Blight')\n",
        "print(df.shape)\n",
        "\n",
        "# Potato Late Blight\n",
        "for image in late_potato:\n",
        "    \n",
        "  main_img=cv2.imread(image) \n",
        "\n",
        "  #Preprocessing\n",
        "  img = cv2.cvtColor(main_img, cv2.COLOR_BGR2RGB)\n",
        "  gs = cv2.cvtColor(img,cv2.COLOR_RGB2GRAY)\n",
        "\n",
        "  #Color features\n",
        "  red_channel = img[:,:,0]\n",
        "  green_channel = img[:,:,1]\n",
        "  blue_channel = img[:,:,2]\n",
        "  blue_channel[blue_channel == 255] = 0\n",
        "  green_channel[green_channel == 255] = 0\n",
        "  red_channel[red_channel == 255] = 0\n",
        "\n",
        "  red_mean = np.mean(red_channel)\n",
        "  green_mean = np.mean(green_channel)\n",
        "  blue_mean = np.mean(blue_channel)\n",
        "\n",
        "  red_std = np.std(red_channel)\n",
        "  green_std = np.std(green_channel)\n",
        "  blue_std = np.std(blue_channel)\n",
        "\n",
        "  #Texture features\n",
        "  textures = mt.features.haralick(gs)\n",
        "  ht_mean = textures.mean(axis=0)\n",
        "  contrast = ht_mean[1]\n",
        "  correlation = ht_mean[2]\n",
        "  inverse_diff_moments = ht_mean[4]\n",
        "  entropy = ht_mean[8]\n",
        "\n",
        "  vector = [red_mean,green_mean,blue_mean,red_std,green_std,blue_std,\\\n",
        "          contrast,correlation,inverse_diff_moments,entropy\n",
        "          ]\n",
        "\n",
        "  df_temp = pd.DataFrame([vector],columns=names)\n",
        "  df = df.append(df_temp)\n",
        "  target.append('Potato Late Blight')\n",
        "print(df.shape)\n",
        "\n",
        "\n",
        "# Healthy Potato \n",
        "for image in healthy_potato:\n",
        "    \n",
        "  main_img=cv2.imread(image) \n",
        "\n",
        "  #Preprocessing\n",
        "  img = cv2.cvtColor(main_img, cv2.COLOR_BGR2RGB)\n",
        "  gs = cv2.cvtColor(img,cv2.COLOR_RGB2GRAY)\n",
        "\n",
        "  #Color features\n",
        "  red_channel = img[:,:,0]\n",
        "  green_channel = img[:,:,1]\n",
        "  blue_channel = img[:,:,2]\n",
        "  blue_channel[blue_channel == 255] = 0\n",
        "  green_channel[green_channel == 255] = 0\n",
        "  red_channel[red_channel == 255] = 0\n",
        "\n",
        "  red_mean = np.mean(red_channel)\n",
        "  green_mean = np.mean(green_channel)\n",
        "  blue_mean = np.mean(blue_channel)\n",
        "\n",
        "  red_std = np.std(red_channel)\n",
        "  green_std = np.std(green_channel)\n",
        "  blue_std = np.std(blue_channel)\n",
        "\n",
        "  #Texture features\n",
        "  textures = mt.features.haralick(gs)\n",
        "  ht_mean = textures.mean(axis=0)\n",
        "  contrast = ht_mean[1]\n",
        "  correlation = ht_mean[2]\n",
        "  inverse_diff_moments = ht_mean[4]\n",
        "  entropy = ht_mean[8]\n",
        "\n",
        "  vector = [red_mean,green_mean,blue_mean,red_std,green_std,blue_std,\\\n",
        "          contrast,correlation,inverse_diff_moments,entropy\n",
        "          ]\n",
        "\n",
        "  df_temp = pd.DataFrame([vector],columns=names)\n",
        "  df = df.append(df_temp)\n",
        "  target.append('Healthy')\n",
        "print(df.shape)\n",
        "\n",
        "# Healthy Tomato \n",
        "for image in healthy_tomato:\n",
        "    \n",
        "  main_img=cv2.imread(image) \n",
        "  \n",
        "  #Preprocessing\n",
        "  img = cv2.cvtColor(main_img, cv2.COLOR_BGR2RGB)\n",
        "  gs = cv2.cvtColor(img,cv2.COLOR_RGB2GRAY)\n",
        "\n",
        "  #Color features\n",
        "  red_channel = img[:,:,0]\n",
        "  green_channel = img[:,:,1]\n",
        "  blue_channel = img[:,:,2]\n",
        "  blue_channel[blue_channel == 255] = 0\n",
        "  green_channel[green_channel == 255] = 0\n",
        "  red_channel[red_channel == 255] = 0\n",
        "\n",
        "  red_mean = np.mean(red_channel)\n",
        "  green_mean = np.mean(green_channel)\n",
        "  blue_mean = np.mean(blue_channel)\n",
        "\n",
        "  red_std = np.std(red_channel)\n",
        "  green_std = np.std(green_channel)\n",
        "  blue_std = np.std(blue_channel)\n",
        "\n",
        "  #Texture features\n",
        "  textures = mt.features.haralick(gs)\n",
        "  ht_mean = textures.mean(axis=0)\n",
        "  contrast = ht_mean[1]\n",
        "  correlation = ht_mean[2]\n",
        "  inverse_diff_moments = ht_mean[4]\n",
        "  entropy = ht_mean[8]\n",
        "\n",
        "  vector = [red_mean,green_mean,blue_mean,red_std,green_std,blue_std,\\\n",
        "          contrast,correlation,inverse_diff_moments,entropy\n",
        "          ]\n",
        "\n",
        "  df_temp = pd.DataFrame([vector],columns=names)\n",
        "  df = df.append(df_temp)\n",
        "  target.append('Healthy')\n",
        "print(df.shape)\n",
        "\n",
        "#Tomato Late Blight\n",
        "for image in late_tomato:\n",
        "    \n",
        "  main_img=cv2.imread(image) \n",
        "\n",
        "  #Preprocessing\n",
        "  img = cv2.cvtColor(main_img, cv2.COLOR_BGR2RGB)\n",
        "  gs = cv2.cvtColor(img,cv2.COLOR_RGB2GRAY)\n",
        "\n",
        "  #Color features\n",
        "  red_channel = img[:,:,0]\n",
        "  green_channel = img[:,:,1]\n",
        "  blue_channel = img[:,:,2]\n",
        "  blue_channel[blue_channel == 255] = 0\n",
        "  green_channel[green_channel == 255] = 0\n",
        "  red_channel[red_channel == 255] = 0\n",
        "\n",
        "  red_mean = np.mean(red_channel)\n",
        "  green_mean = np.mean(green_channel)\n",
        "  blue_mean = np.mean(blue_channel)\n",
        "\n",
        "  red_std = np.std(red_channel)\n",
        "  green_std = np.std(green_channel)\n",
        "  blue_std = np.std(blue_channel)\n",
        "\n",
        "  #Texture features\n",
        "  textures = mt.features.haralick(gs)\n",
        "  ht_mean = textures.mean(axis=0)\n",
        "  contrast = ht_mean[1]\n",
        "  correlation = ht_mean[2]\n",
        "  inverse_diff_moments = ht_mean[4]\n",
        "  entropy = ht_mean[8]\n",
        "\n",
        "  vector = [red_mean,green_mean,blue_mean,red_std,green_std,blue_std,\\\n",
        "          contrast,correlation,inverse_diff_moments,entropy\n",
        "          ]\n",
        "\n",
        "  df_temp = pd.DataFrame([vector],columns=names)\n",
        "  df = df.append(df_temp)\n",
        "  target.append('Tomato Late Blight')\n",
        "print(df.shape)\n",
        "\n",
        "#Tomato Mosaic Virus\n",
        "for image in mosaic_tomato:\n",
        "    \n",
        "  main_img=cv2.imread(image) \n",
        "\n",
        "  #Preprocessing\n",
        "  img = cv2.cvtColor(main_img, cv2.COLOR_BGR2RGB)\n",
        "  gs = cv2.cvtColor(img,cv2.COLOR_RGB2GRAY)\n",
        "\n",
        "  #Color features\n",
        "  red_channel = img[:,:,0]\n",
        "  green_channel = img[:,:,1]\n",
        "  blue_channel = img[:,:,2]\n",
        "  blue_channel[blue_channel == 255] = 0\n",
        "  green_channel[green_channel == 255] = 0\n",
        "  red_channel[red_channel == 255] = 0\n",
        "\n",
        "  red_mean = np.mean(red_channel)\n",
        "  green_mean = np.mean(green_channel)\n",
        "  blue_mean = np.mean(blue_channel)\n",
        "\n",
        "  red_std = np.std(red_channel)\n",
        "  green_std = np.std(green_channel)\n",
        "  blue_std = np.std(blue_channel)\n",
        "\n",
        "  #Texture features\n",
        "  textures = mt.features.haralick(gs)\n",
        "  ht_mean = textures.mean(axis=0)\n",
        "  contrast = ht_mean[1]\n",
        "  correlation = ht_mean[2]\n",
        "  inverse_diff_moments = ht_mean[4]\n",
        "  entropy = ht_mean[8]\n",
        "\n",
        "  vector = [red_mean,green_mean,blue_mean,red_std,green_std,blue_std,\\\n",
        "          contrast,correlation,inverse_diff_moments,entropy\n",
        "          ]\n",
        "\n",
        "  df_temp = pd.DataFrame([vector],columns=names)\n",
        "  df = df.append(df_temp)\n",
        "  target.append('Tomato Mosaic Virus')\n",
        "print(df.shape)\n",
        "\n",
        "# Tomato Yellow Leaf Curl_Virus\n",
        "for image in curl_tomato:\n",
        "    \n",
        "  main_img=cv2.imread(image)\n",
        "\n",
        "  #Preprocessing\n",
        "  img = cv2.cvtColor(main_img, cv2.COLOR_BGR2RGB)\n",
        "  gs = cv2.cvtColor(img,cv2.COLOR_RGB2GRAY)\n",
        "\n",
        "  #Color features\n",
        "  red_channel = img[:,:,0]\n",
        "  green_channel = img[:,:,1]\n",
        "  blue_channel = img[:,:,2]\n",
        "  \n",
        "  blue_channel[blue_channel == 255] = 0\n",
        "  green_channel[green_channel == 255] = 0\n",
        "  red_channel[red_channel == 255] = 0\n",
        "\n",
        "  red_mean = np.mean(red_channel)\n",
        "  green_mean = np.mean(green_channel)\n",
        "  blue_mean = np.mean(blue_channel)\n",
        "\n",
        "  red_std = np.std(red_channel)\n",
        "  green_std = np.std(green_channel)\n",
        "  blue_std = np.std(blue_channel)\n",
        "\n",
        "  #Texture features\n",
        "  textures = mt.features.haralick(gs)\n",
        "  ht_mean = textures.mean(axis=0)\n",
        "  contrast = ht_mean[1]\n",
        "  correlation = ht_mean[2]\n",
        "  inverse_diff_moments = ht_mean[4]\n",
        "  entropy = ht_mean[8]\n",
        "\n",
        "  vector = [red_mean,green_mean,blue_mean,red_std,green_std,blue_std,\\\n",
        "          contrast,correlation,inverse_diff_moments,entropy\n",
        "          ]\n",
        "\n",
        "  df_temp = pd.DataFrame([vector],columns=names)\n",
        "  df = df.append(df_temp)\n",
        "  target.append('Tomato Yellow Leaf Curl Virus')\n",
        "print(df.shape)\n"
      ],
      "execution_count": null,
      "outputs": [
        {
          "name": "stdout",
          "output_type": "stream",
          "text": [
            "(1000, 10)\n",
            "(2000, 10)\n",
            "(2152, 10)\n",
            "(3743, 10)\n",
            "(5652, 10)\n",
            "(6025, 10)\n",
            "(11382, 10)\n"
          ]
        }
      ]
    },
    {
      "cell_type": "code",
      "metadata": {
        "colab": {
          "base_uri": "https://localhost:8080/",
          "height": 419
        },
        "id": "51vSD-bsnHZP",
        "outputId": "fc03c856-3af7-457d-859a-23240d4fe224"
      },
      "source": [
        "df"
      ],
      "execution_count": null,
      "outputs": [
        {
          "data": {
            "text/html": [
              "<div>\n",
              "<style scoped>\n",
              "    .dataframe tbody tr th:only-of-type {\n",
              "        vertical-align: middle;\n",
              "    }\n",
              "\n",
              "    .dataframe tbody tr th {\n",
              "        vertical-align: top;\n",
              "    }\n",
              "\n",
              "    .dataframe thead th {\n",
              "        text-align: right;\n",
              "    }\n",
              "</style>\n",
              "<table border=\"1\" class=\"dataframe\">\n",
              "  <thead>\n",
              "    <tr style=\"text-align: right;\">\n",
              "      <th></th>\n",
              "      <th>mean_r</th>\n",
              "      <th>mean_g</th>\n",
              "      <th>mean_b</th>\n",
              "      <th>stddev_r</th>\n",
              "      <th>stddev_g</th>\n",
              "      <th>stddev_b</th>\n",
              "      <th>contrast</th>\n",
              "      <th>correlation</th>\n",
              "      <th>inverse_difference_moments</th>\n",
              "      <th>entropy</th>\n",
              "    </tr>\n",
              "  </thead>\n",
              "  <tbody>\n",
              "    <tr>\n",
              "      <th>0</th>\n",
              "      <td>75.619797</td>\n",
              "      <td>78.243393</td>\n",
              "      <td>32.119202</td>\n",
              "      <td>78.605678</td>\n",
              "      <td>81.500194</td>\n",
              "      <td>41.113355</td>\n",
              "      <td>336.593563</td>\n",
              "      <td>0.970486</td>\n",
              "      <td>0.457583</td>\n",
              "      <td>9.192430</td>\n",
              "    </tr>\n",
              "    <tr>\n",
              "      <th>0</th>\n",
              "      <td>105.150757</td>\n",
              "      <td>110.258820</td>\n",
              "      <td>52.966568</td>\n",
              "      <td>78.938702</td>\n",
              "      <td>83.294796</td>\n",
              "      <td>44.030045</td>\n",
              "      <td>345.356795</td>\n",
              "      <td>0.970784</td>\n",
              "      <td>0.344756</td>\n",
              "      <td>10.156659</td>\n",
              "    </tr>\n",
              "    <tr>\n",
              "      <th>0</th>\n",
              "      <td>73.686783</td>\n",
              "      <td>80.664734</td>\n",
              "      <td>46.962601</td>\n",
              "      <td>70.997294</td>\n",
              "      <td>77.268860</td>\n",
              "      <td>48.094410</td>\n",
              "      <td>310.819392</td>\n",
              "      <td>0.969830</td>\n",
              "      <td>0.459043</td>\n",
              "      <td>8.724239</td>\n",
              "    </tr>\n",
              "    <tr>\n",
              "      <th>0</th>\n",
              "      <td>72.361221</td>\n",
              "      <td>85.880371</td>\n",
              "      <td>40.007202</td>\n",
              "      <td>71.075194</td>\n",
              "      <td>83.553735</td>\n",
              "      <td>42.289300</td>\n",
              "      <td>250.151056</td>\n",
              "      <td>0.977671</td>\n",
              "      <td>0.473375</td>\n",
              "      <td>8.366768</td>\n",
              "    </tr>\n",
              "    <tr>\n",
              "      <th>0</th>\n",
              "      <td>67.625870</td>\n",
              "      <td>80.246750</td>\n",
              "      <td>51.122223</td>\n",
              "      <td>64.712043</td>\n",
              "      <td>75.084095</td>\n",
              "      <td>51.450408</td>\n",
              "      <td>320.389069</td>\n",
              "      <td>0.966388</td>\n",
              "      <td>0.443791</td>\n",
              "      <td>8.932508</td>\n",
              "    </tr>\n",
              "    <tr>\n",
              "      <th>...</th>\n",
              "      <td>...</td>\n",
              "      <td>...</td>\n",
              "      <td>...</td>\n",
              "      <td>...</td>\n",
              "      <td>...</td>\n",
              "      <td>...</td>\n",
              "      <td>...</td>\n",
              "      <td>...</td>\n",
              "      <td>...</td>\n",
              "      <td>...</td>\n",
              "    </tr>\n",
              "    <tr>\n",
              "      <th>0</th>\n",
              "      <td>30.985275</td>\n",
              "      <td>45.556168</td>\n",
              "      <td>29.651337</td>\n",
              "      <td>44.155505</td>\n",
              "      <td>58.752339</td>\n",
              "      <td>42.203766</td>\n",
              "      <td>288.618615</td>\n",
              "      <td>0.947114</td>\n",
              "      <td>0.545073</td>\n",
              "      <td>7.734680</td>\n",
              "    </tr>\n",
              "    <tr>\n",
              "      <th>0</th>\n",
              "      <td>24.528671</td>\n",
              "      <td>29.200333</td>\n",
              "      <td>15.957321</td>\n",
              "      <td>46.005425</td>\n",
              "      <td>52.203231</td>\n",
              "      <td>31.280004</td>\n",
              "      <td>210.873031</td>\n",
              "      <td>0.953846</td>\n",
              "      <td>0.704492</td>\n",
              "      <td>5.278260</td>\n",
              "    </tr>\n",
              "    <tr>\n",
              "      <th>0</th>\n",
              "      <td>72.323883</td>\n",
              "      <td>89.017471</td>\n",
              "      <td>28.130234</td>\n",
              "      <td>71.906800</td>\n",
              "      <td>83.690146</td>\n",
              "      <td>32.520746</td>\n",
              "      <td>142.501122</td>\n",
              "      <td>0.986890</td>\n",
              "      <td>0.461432</td>\n",
              "      <td>9.011864</td>\n",
              "    </tr>\n",
              "    <tr>\n",
              "      <th>0</th>\n",
              "      <td>52.950150</td>\n",
              "      <td>65.283401</td>\n",
              "      <td>30.250549</td>\n",
              "      <td>65.215214</td>\n",
              "      <td>77.686669</td>\n",
              "      <td>39.743137</td>\n",
              "      <td>205.962125</td>\n",
              "      <td>0.978615</td>\n",
              "      <td>0.556446</td>\n",
              "      <td>7.557882</td>\n",
              "    </tr>\n",
              "    <tr>\n",
              "      <th>0</th>\n",
              "      <td>57.100845</td>\n",
              "      <td>73.932663</td>\n",
              "      <td>26.701965</td>\n",
              "      <td>67.946844</td>\n",
              "      <td>85.170820</td>\n",
              "      <td>33.973175</td>\n",
              "      <td>111.680207</td>\n",
              "      <td>0.989773</td>\n",
              "      <td>0.575644</td>\n",
              "      <td>7.261012</td>\n",
              "    </tr>\n",
              "  </tbody>\n",
              "</table>\n",
              "<p>11382 rows × 10 columns</p>\n",
              "</div>"
            ],
            "text/plain": [
              "        mean_r      mean_g  ...  inverse_difference_moments    entropy\n",
              "0    75.619797   78.243393  ...                    0.457583   9.192430\n",
              "0   105.150757  110.258820  ...                    0.344756  10.156659\n",
              "0    73.686783   80.664734  ...                    0.459043   8.724239\n",
              "0    72.361221   85.880371  ...                    0.473375   8.366768\n",
              "0    67.625870   80.246750  ...                    0.443791   8.932508\n",
              "..         ...         ...  ...                         ...        ...\n",
              "0    30.985275   45.556168  ...                    0.545073   7.734680\n",
              "0    24.528671   29.200333  ...                    0.704492   5.278260\n",
              "0    72.323883   89.017471  ...                    0.461432   9.011864\n",
              "0    52.950150   65.283401  ...                    0.556446   7.557882\n",
              "0    57.100845   73.932663  ...                    0.575644   7.261012\n",
              "\n",
              "[11382 rows x 10 columns]"
            ]
          },
          "execution_count": 8,
          "metadata": {},
          "output_type": "execute_result"
        }
      ]
    },
    {
      "cell_type": "markdown",
      "metadata": {
        "id": "iMW2fdrafrOW"
      },
      "source": [
        "# Data Splitting"
      ]
    },
    {
      "cell_type": "code",
      "metadata": {
        "id": "HftM_GVBfn6j"
      },
      "source": [
        "from sklearn.model_selection import train_test_split\n",
        "xtrain, xtest, ytrain, ytest = train_test_split(df, target, train_size=0.8,random_state=21)"
      ],
      "execution_count": null,
      "outputs": []
    },
    {
      "cell_type": "markdown",
      "metadata": {
        "id": "E43tZW1-gfCY"
      },
      "source": [
        "# Data Scaling"
      ]
    },
    {
      "cell_type": "code",
      "metadata": {
        "id": "0CJtc-1OgeXE"
      },
      "source": [
        "from sklearn.preprocessing import StandardScaler\n",
        "\n",
        "scaler = StandardScaler()\n",
        "scaler.fit(xtrain)\n",
        "xtrain = scaler.transform(xtrain)\n",
        "xtest = scaler.transform(xtest)"
      ],
      "execution_count": null,
      "outputs": []
    },
    {
      "cell_type": "code",
      "metadata": {
        "colab": {
          "base_uri": "https://localhost:8080/"
        },
        "id": "A9rTNJgyMLg5",
        "outputId": "9705f085-379d-4dd3-87d9-e254f478698a"
      },
      "source": [
        "from sklearn.ensemble import RandomForestClassifier\n",
        "clf = RandomForestClassifier(n_jobs=2, random_state=0)\n",
        "\n",
        "# Train the Classifier to take the training features and learn how they relate\n",
        "# to the training y (the species)\n",
        "clf.fit(xtrain, ytrain)"
      ],
      "execution_count": null,
      "outputs": [
        {
          "data": {
            "text/plain": [
              "RandomForestClassifier(bootstrap=True, ccp_alpha=0.0, class_weight=None,\n",
              "                       criterion='gini', max_depth=None, max_features='auto',\n",
              "                       max_leaf_nodes=None, max_samples=None,\n",
              "                       min_impurity_decrease=0.0, min_impurity_split=None,\n",
              "                       min_samples_leaf=1, min_samples_split=2,\n",
              "                       min_weight_fraction_leaf=0.0, n_estimators=100, n_jobs=2,\n",
              "                       oob_score=False, random_state=0, verbose=0,\n",
              "                       warm_start=False)"
            ]
          },
          "execution_count": 11,
          "metadata": {},
          "output_type": "execute_result"
        }
      ]
    },
    {
      "cell_type": "code",
      "metadata": {
        "colab": {
          "base_uri": "https://localhost:8080/"
        },
        "id": "hKWOKsQxUhNI",
        "outputId": "cb5e4cc3-eb01-4212-a9a9-59967477c37f"
      },
      "source": [
        "from sklearn import tree\n",
        "\n",
        "clf = tree.DecisionTreeClassifier()\n",
        "clf.fit(xtrain, ytrain)"
      ],
      "execution_count": null,
      "outputs": [
        {
          "data": {
            "text/plain": [
              "DecisionTreeClassifier(ccp_alpha=0.0, class_weight=None, criterion='gini',\n",
              "                       max_depth=None, max_features=None, max_leaf_nodes=None,\n",
              "                       min_impurity_decrease=0.0, min_impurity_split=None,\n",
              "                       min_samples_leaf=1, min_samples_split=2,\n",
              "                       min_weight_fraction_leaf=0.0, presort='deprecated',\n",
              "                       random_state=None, splitter='best')"
            ]
          },
          "execution_count": 12,
          "metadata": {},
          "output_type": "execute_result"
        }
      ]
    },
    {
      "cell_type": "code",
      "metadata": {
        "colab": {
          "base_uri": "https://localhost:8080/"
        },
        "id": "-xt5HWFaRxQz",
        "outputId": "4c91d359-bf18-41c6-cc25-c29827b3a183"
      },
      "source": [
        "from sklearn import metrics\n",
        "\n",
        "pred = clf.predict(xtest)\n",
        "pscore = metrics.accuracy_score(ytest, pred)\n",
        "print(pscore)"
      ],
      "execution_count": null,
      "outputs": [
        {
          "name": "stdout",
          "output_type": "stream",
          "text": [
            "0.7786561264822134\n"
          ]
        }
      ]
    },
    {
      "cell_type": "code",
      "metadata": {
        "colab": {
          "base_uri": "https://localhost:8080/"
        },
        "id": "fLhd415dVQd7",
        "outputId": "24c2e402-d3f9-4561-b51d-308005be5bbf"
      },
      "source": [
        "from sklearn.linear_model import LogisticRegression\n",
        "\n",
        "clf = LogisticRegression(random_state=21).fit(xtrain, ytrain)\n",
        "\n",
        "clf.score(xtest, ytest)"
      ],
      "execution_count": null,
      "outputs": [
        {
          "name": "stderr",
          "output_type": "stream",
          "text": [
            "/usr/local/lib/python3.7/dist-packages/sklearn/linear_model/_logistic.py:940: ConvergenceWarning: lbfgs failed to converge (status=1):\n",
            "STOP: TOTAL NO. of ITERATIONS REACHED LIMIT.\n",
            "\n",
            "Increase the number of iterations (max_iter) or scale the data as shown in:\n",
            "    https://scikit-learn.org/stable/modules/preprocessing.html\n",
            "Please also refer to the documentation for alternative solver options:\n",
            "    https://scikit-learn.org/stable/modules/linear_model.html#logistic-regression\n",
            "  extra_warning_msg=_LOGISTIC_SOLVER_CONVERGENCE_MSG)\n"
          ]
        },
        {
          "data": {
            "text/plain": [
              "0.8203776899429074"
            ]
          },
          "execution_count": 14,
          "metadata": {},
          "output_type": "execute_result"
        }
      ]
    },
    {
      "cell_type": "markdown",
      "metadata": {
        "id": "23t_ELmZgI6f"
      },
      "source": [
        "# Model Training"
      ]
    },
    {
      "cell_type": "code",
      "metadata": {
        "colab": {
          "base_uri": "https://localhost:8080/"
        },
        "id": "5BYOO4vEgMUh",
        "outputId": "05163f20-99c3-49e7-9611-b486d5df9627"
      },
      "source": [
        "from sklearn import neighbors\n",
        "\n",
        "for k in range(1,15): \n",
        "  # Model Training\n",
        "  knn = neighbors.KNeighborsClassifier(n_neighbors=k)\n",
        "  knn.fit(xtrain, ytrain)\n",
        "\n",
        "\n",
        "\n",
        "  # Model Test\n",
        "  predicted = knn.predict(xtest)\n",
        "\n",
        "  # Calcucating Model Accuracy\n",
        "  precision = knn.score(xtest, ytest)\n",
        "\n",
        "  print('Precision: ', precision*100,'% pour k= ',k)"
      ],
      "execution_count": null,
      "outputs": [
        {
          "name": "stdout",
          "output_type": "stream",
          "text": [
            "Precision:  81.73034694773825 % pour k=  1\n",
            "Precision:  81.42292490118577 % pour k=  2\n",
            "Precision:  83.44312692138779 % pour k=  3\n",
            "Precision:  83.70663153271849 % pour k=  4\n",
            "Precision:  84.58498023715416 % pour k=  5\n",
            "Precision:  84.45322793148881 % pour k=  6\n",
            "Precision:  83.9262187088274 % pour k=  7\n",
            "Precision:  84.36539306104524 % pour k=  8\n",
            "Precision:  84.18972332015811 % pour k=  9\n",
            "Precision:  84.32147562582345 % pour k=  10\n",
            "Precision:  83.70663153271849 % pour k=  11\n",
            "Precision:  83.70663153271849 % pour k=  12\n",
            "Precision:  83.70663153271849 % pour k=  13\n",
            "Precision:  83.57487922705315 % pour k=  14\n"
          ]
        }
      ]
    },
    {
      "cell_type": "markdown",
      "metadata": {
        "id": "hl1OMdF7g1cw"
      },
      "source": [
        "# Optimization (Choosing The Right K)"
      ]
    },
    {
      "cell_type": "code",
      "metadata": {
        "colab": {
          "base_uri": "https://localhost:8080/"
        },
        "id": "vf9Af8sIUK58",
        "outputId": "0e9a6579-2ccf-4fb8-ad49-e03951d1ede4"
      },
      "source": [
        "# k = 6\n",
        "\n",
        "# Model Training\n",
        "knn = neighbors.KNeighborsClassifier(n_neighbors=6)\n",
        "knn.fit(xtrain, ytrain)\n",
        "\n",
        "\n",
        "\n",
        "# Model Test\n",
        "predicted = knn.predict(xtest)\n",
        "\n",
        "# Calcucating Model Accuracy\n",
        "precision = knn.score(xtest, ytest)\n",
        "\n",
        "print('Precision: ', precision*100,'% pour k= ',6)"
      ],
      "execution_count": null,
      "outputs": [
        {
          "name": "stdout",
          "output_type": "stream",
          "text": [
            "Precision:  84.45322793148881 % pour k=  6\n"
          ]
        }
      ]
    },
    {
      "cell_type": "markdown",
      "metadata": {
        "id": "X8si266hUTjZ"
      },
      "source": [
        "# Saving The Model"
      ]
    },
    {
      "cell_type": "code",
      "metadata": {
        "id": "KFfxadtSUX0Z"
      },
      "source": [
        "import pickle\n",
        "\n",
        "# save the model to disk\n",
        "filename = 'Disease_Detection.sav'\n",
        "pickle.dump(knn, open(filename, 'wb'))\n",
        "\n"
      ],
      "execution_count": null,
      "outputs": []
    },
    {
      "cell_type": "code",
      "metadata": {
        "colab": {
          "base_uri": "https://localhost:8080/"
        },
        "id": "z1WPshxtW77i",
        "outputId": "96bb9ccb-4f30-486a-9a78-c1c8ad8575bd"
      },
      "source": [
        "!ls\n"
      ],
      "execution_count": null,
      "outputs": [
        {
          "name": "stdout",
          "output_type": "stream",
          "text": [
            "Disease_Detection.sav  PlantVillage-Dataset  sample_data\n"
          ]
        }
      ]
    },
    {
      "cell_type": "code",
      "metadata": {
        "colab": {
          "base_uri": "https://localhost:8080/",
          "height": 34
        },
        "id": "hZOIMfJmU7Nn",
        "outputId": "ab95e96d-f676-4cf4-ad0d-bff7f065d250"
      },
      "source": [
        "from google.colab import files\n",
        "files.download(\"Disease_Detection.sav\")"
      ],
      "execution_count": null,
      "outputs": [
        {
          "data": {
            "application/javascript": [
              "\n",
              "    async function download(id, filename, size) {\n",
              "      if (!google.colab.kernel.accessAllowed) {\n",
              "        return;\n",
              "      }\n",
              "      const div = document.createElement('div');\n",
              "      const label = document.createElement('label');\n",
              "      label.textContent = `Downloading \"${filename}\": `;\n",
              "      div.appendChild(label);\n",
              "      const progress = document.createElement('progress');\n",
              "      progress.max = size;\n",
              "      div.appendChild(progress);\n",
              "      document.body.appendChild(div);\n",
              "\n",
              "      const buffers = [];\n",
              "      let downloaded = 0;\n",
              "\n",
              "      const channel = await google.colab.kernel.comms.open(id);\n",
              "      // Send a message to notify the kernel that we're ready.\n",
              "      channel.send({})\n",
              "\n",
              "      for await (const message of channel.messages) {\n",
              "        // Send a message to notify the kernel that we're ready.\n",
              "        channel.send({})\n",
              "        if (message.buffers) {\n",
              "          for (const buffer of message.buffers) {\n",
              "            buffers.push(buffer);\n",
              "            downloaded += buffer.byteLength;\n",
              "            progress.value = downloaded;\n",
              "          }\n",
              "        }\n",
              "      }\n",
              "      const blob = new Blob(buffers, {type: 'application/binary'});\n",
              "      const a = document.createElement('a');\n",
              "      a.href = window.URL.createObjectURL(blob);\n",
              "      a.download = filename;\n",
              "      div.appendChild(a);\n",
              "      a.click();\n",
              "      div.remove();\n",
              "    }\n",
              "  "
            ],
            "text/plain": [
              "<IPython.core.display.Javascript object>"
            ]
          },
          "metadata": {},
          "output_type": "display_data"
        },
        {
          "data": {
            "application/javascript": [
              "download(\"download_651aaca3-744e-4483-80c1-c915a57cf41a\", \"Disease_Detection.sav\", 1702702)"
            ],
            "text/plain": [
              "<IPython.core.display.Javascript object>"
            ]
          },
          "metadata": {},
          "output_type": "display_data"
        }
      ]
    },
    {
      "cell_type": "markdown",
      "metadata": {
        "id": "Dt6h7Ni3zvI1"
      },
      "source": [
        "# Testing The Model"
      ]
    },
    {
      "cell_type": "code",
      "metadata": {
        "colab": {
          "background_save": true,
          "resources": {
            "http://localhost:8080/nbextensions/google.colab/files.js": {
              "data": "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",
              "headers": [
                [
                  "content-type",
                  "application/javascript"
                ]
              ],
              "ok": true,
              "status": 200,
              "status_text": ""
            }
          },
          "base_uri": "https://localhost:8080/",
          "height": 38
        },
        "id": "HFT3L-P_ZywL",
        "outputId": "a3ed2513-aa4b-4494-a56d-39c307487820"
      },
      "source": [
        "from google.colab import files\n",
        "files.upload()"
      ],
      "execution_count": null,
      "outputs": [
        {
          "data": {
            "text/html": [
              "\n",
              "     <input type=\"file\" id=\"files-84678f60-3007-4bb0-83fa-2eba54cb77ee\" name=\"files[]\" multiple disabled\n",
              "        style=\"border:none\" />\n",
              "     <output id=\"result-84678f60-3007-4bb0-83fa-2eba54cb77ee\">\n",
              "      Upload widget is only available when the cell has been executed in the\n",
              "      current browser session. Please rerun this cell to enable.\n",
              "      </output>\n",
              "      <script src=\"/nbextensions/google.colab/files.js\"></script> "
            ],
            "text/plain": [
              "<IPython.core.display.HTML object>"
            ]
          },
          "metadata": {},
          "output_type": "display_data"
        }
      ]
    },
    {
      "cell_type": "code",
      "metadata": {
        "colab": {
          "base_uri": "https://localhost:8080/"
        },
        "id": "K1GEiJcAaZJk",
        "outputId": "3fcf7591-a4cd-42c3-fca3-27528e321785"
      },
      "source": [
        "!pip install mahotas\n",
        "!ls"
      ],
      "execution_count": null,
      "outputs": [
        {
          "name": "stdout",
          "output_type": "stream",
          "text": [
            "Requirement already satisfied: mahotas in /usr/local/lib/python3.7/dist-packages (1.4.11)\n",
            "Requirement already satisfied: numpy in /usr/local/lib/python3.7/dist-packages (from mahotas) (1.19.5)\n",
            "'00d8f10f-5038-4e0f-bb58-0b885ddc0cc5___RS_Early.B 8722.JPG'\n",
            "'0a8a68ee-f587-4dea-beec-79d02e7d3fa4___RS_Early.B 8461.JPG'\n",
            " Disease_Detection.sav\n",
            "'f12d7916-b4f0-46f7-91bd-8dc097743149___RS_Early.B 8963.JPG'\n",
            " PlantVillage-Dataset\n",
            " sample_data\n"
          ]
        }
      ]
    },
    {
      "cell_type": "code",
      "metadata": {
        "id": "e95slXJCVKoL"
      },
      "source": [
        ""
      ],
      "execution_count": null,
      "outputs": []
    },
    {
      "cell_type": "code",
      "metadata": {
        "colab": {
          "base_uri": "https://localhost:8080/"
        },
        "id": "7C7H2-oRaCCj",
        "outputId": "fe678151-5ee5-4c29-8a62-d020e96c5309"
      },
      "source": [
        "import pickle \n",
        "import cv2\n",
        "import numpy as np\n",
        "import mahotas as mt\n",
        "import pandas as pd\n",
        "\n",
        "\n",
        "main_img=cv2.imread('0a8a68ee-f587-4dea-beec-79d02e7d3fa4___RS_Early.B 8461.JPG')\n",
        "img = cv2.cvtColor(main_img,cv2.COLOR_BGR2RGB)\n",
        "gs = cv2.cvtColor(img,cv2.COLOR_RGB2GRAY)\n",
        "\n",
        "red_channel = img[:,:,0]\n",
        "green_channel = img[:,:,1]\n",
        "blue_channel = img[:,:,2]\n",
        "\n",
        "red_mean = np.mean(red_channel)  #moyenne de rouge\n",
        "green_mean = np.mean(green_channel) #moyenne de vert\n",
        "blue_mean = np.mean(blue_channel)  #moyenne de bleu\n",
        "\n",
        "stddev_r = np.std(red_channel)  # ecart-type de rouge\n",
        "stddev_g = np.std(green_channel) # ecart-type de vert\n",
        "stddev_b = np.std(blue_channel) # ecart-type de bleu\n",
        "\n",
        "textures = mt.features.haralick(gs)\n",
        "ht_mean = textures.mean(axis=0)\n",
        "\n",
        "contrast = ht_mean[1] #contrast\n",
        "correlation = ht_mean[2] #correlation\n",
        "inverse_difference_moments = ht_mean[4] #inverse difference moments\n",
        "entropy = ht_mean[8] #entropie\n",
        "\n",
        "vector = [red_mean,green_mean,blue_mean,stddev_r,stddev_g,stddev_b,\\\n",
        "        contrast,correlation,inverse_difference_moments,entropy\n",
        "        ]\n",
        "\n",
        "names = ['mean_r','mean_g','mean_b','stddev_r','stddev_g','stddev_b', \\\n",
        "            'contrast','correlation','inverse_difference_moments','entropy'\n",
        "            ]\n",
        "test = pd.DataFrame([vector],columns=names)\n",
        "#test = scaler.transform(test)\n",
        "\n",
        "filename='Disease_Detection.sav'\n",
        "knn=pickle.load(open(filename, 'rb'))\n",
        "\n",
        "print(knn.predict(test)[0])\n"
      ],
      "execution_count": null,
      "outputs": [
        {
          "name": "stdout",
          "output_type": "stream",
          "text": [
            "Potato Early Blight\n"
          ]
        }
      ]
    },
    {
      "cell_type": "code",
      "metadata": {
        "id": "gIFL8C6lTgaK"
      },
      "source": [
        "import joblib \n",
        "\n",
        "knn=joblib.load('Disease_Detection.pkl')\n",
        "result=knn.predict(df)"
      ],
      "execution_count": null,
      "outputs": []
    },
    {
      "cell_type": "code",
      "metadata": {
        "id": "2l6nE-DPWUP0"
      },
      "source": [
        "import joblib \n",
        "\n",
        "#save the model\n",
        "joblib.dump(knn,'Disease_Detection.pkl')"
      ],
      "execution_count": null,
      "outputs": []
    }
  ]
}